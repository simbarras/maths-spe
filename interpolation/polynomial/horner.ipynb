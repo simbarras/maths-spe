{
 "cells": [
  {
   "cell_type": "markdown",
   "metadata": {},
   "source": [
    "# Schema of Horner's method\n",
    "Ce schéma permet de d'évaluer un polinôme rapidement\n",
    "\n",
    "## Exemple: 3x^3 - 5x^2 + 7\n",
    "On aimerait calculer p(2)\n",
    "\n",
    "p(x) = 7 - 5x^2 + 3x^3 = 7 + x ( 0 + x ( -5 + x ( 3 )))\n",
    "> Nomber d'opérations : 6 (3x fois, 3x plus)\n",
    "\n",
    "## Mise en oeuvre\n",
    "Partir de l'intérieur et faire les opérations\n",
    "\n",
    "![Schéma de Horner](docs/horner.png)"
   ]
  }
 ],
 "metadata": {
  "language_info": {
   "name": "python"
  },
  "orig_nbformat": 4
 },
 "nbformat": 4,
 "nbformat_minor": 2
}
